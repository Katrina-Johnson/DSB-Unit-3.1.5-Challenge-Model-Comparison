{
 "cells": [
  {
   "cell_type": "markdown",
   "metadata": {},
   "source": [
    "#### Katrina Johnson - DSB Unit 3.1.5\n",
    "\n",
    "## Challenge: Model Comparison\n",
    "\n",
    "Let's work on regression. Find a data set and build a KNN Regression and an OLS regression. Compare the two. How similar are they? Do they miss in different ways?\n",
    "\n",
    "Create a Jupyter notebook with your models. At the end in a markdown cell write a few paragraphs to describe the models' behaviors and why you favor one model or the other. Try to determine whether there is a situation where you would change your mind, or whether one is unambiguously better than the other. Lastly, try to note what it is about the data that causes the better model to outperform the weaker model. Submit a link to your notebook below."
   ]
  },
  {
   "cell_type": "markdown",
   "metadata": {},
   "source": [
    "## My Steps for Completing DSB Unit 2.5.2 Challenge\n",
    "\n",
    "1. Download two datasets.  \n",
    "2. Run the predicitve model I created in challenge 2.3.3 on both data sets.   \n",
    "3. Evaluate the results to find out how consistently the predictive model works.\n",
    "4. Use error calculating mechanism I created to test the sentiment or span in the naive bayes' lessons to text for accuracy.\n",
    "5. Use the methods I learned in DSB Unit 5.1 to calculate the CI, R^2, pvalue, and Intercept and coefficients.\n",
    "6. Analyze the results of the calculations made in step 5, and write about them, and write about how to address any apparent problems that I notice.\n",
    "\n",
    "training a model means using sklearn's fit() method.  \n",
    "I will need X and a Y variables\n",
    "X is every feature that I want to go into the model that is not the outcome feature.  For example, if I am predicting property crime, I kick property crime out of X and make property crime Y.\n",
    "\n",
    "Then instantiate my linear regression model.  Next, I do the fit(X, Y).  This creates a linear regression model.\n",
    "Afterwards, I can call the following methods on the model: score(X,Y) or a predict(X) \n",
    "\n",
    "If I use Y_pred = NameIGiveTheRegressionModel.predict(X)\n",
    "Now, I can compare Y_pred to Y.  This will tell me the residual of the model against each data point.  (i.e. the residual is the distance between each data point and the line. There is one residual for each data point.  This is why I can plot the residual on the Y axis and also on the X axis.)\n",
    "\n",
    "To eveluate how good a model is at dealing with new data, do not refit the model.  Why?  Because if you do, it will be a different model.\n",
    "\n",
    "Take my Oregon crime statistic data, make sure it has the same number of features, and in the same order as the New York crime statistic data.  This is because the model ignores column titles.  It only looks at the order in which they appear in the data set.\n",
    "\n",
    "For Oregon_df\n",
    "X1 = all features I choose to use, except Property Crime.\n",
    "Y1 = Property crime.\n",
    "\n",
    "For df  ..which is the NY data - I have aleady done this:\n",
    "X = all features I choose to use, except Property Crime.  Y = Property crime. (I could call these X_train...and Y_train)\n",
    "\n",
    "Once I do everything to X1 and Y1 that I did to the NewYork X and Y, and run (i.e. plug them into) the same model as the variable that will be fit, ...Then I can compare them using score(X,Y) and predict (Y) and score(X1, Y1) and predict(X1)."
   ]
  },
  {
   "cell_type": "code",
   "execution_count": 1,
   "metadata": {},
   "outputs": [],
   "source": [
    "import math\n",
    "import warnings\n",
    "\n",
    "from IPython.display import display\n",
    "from matplotlib import pyplot as plt\n",
    "import numpy as np\n",
    "import pandas as pd\n",
    "import seaborn as sns\n",
    "from sklearn import linear_model\n",
    "from sklearn.preprocessing import quantile_transform\n",
    "from sklearn import preprocessing\n",
    "import statsmodels.formula.api as smf\n",
    "from scipy import stats\n",
    "from array import array\n",
    "from sklearn.decomposition import PCA\n",
    "from sklearn.preprocessing import StandardScaler\n",
    "from sklearn.metrics.pairwise import paired_distances\n",
    "from sklearn import neighbors\n",
    "\n",
    "# Display preferences.\n",
    "%matplotlib inline\n",
    "pd.options.display.float_format = '{:.3f}'.format\n",
    "\n",
    "# Suppress annoying harmless error.\n",
    "warnings.filterwarnings(\n",
    "    action=\"ignore\",\n",
    "    module=\"scipy\",\n",
    "    message=\"^internal gelsd\"\n",
    ")\n",
    "\n",
    "\n",
    "# Suppress annoying harmless error.\n",
    "import warnings\n",
    "warnings.filterwarnings(action=\"ignore\", module=\"scipy\", message=\"^internal gelsd\")"
   ]
  },
  {
   "cell_type": "code",
   "execution_count": 2,
   "metadata": {},
   "outputs": [],
   "source": [
    "#plt.style.use('dark_background')"
   ]
  },
  {
   "cell_type": "code",
   "execution_count": 3,
   "metadata": {
    "scrolled": false
   },
   "outputs": [],
   "source": [
    "df = pd.read_excel('table_8_offenses_known_to_law_enforcement_new_york_by_city_2013.xls')\n",
    "#df"
   ]
  },
  {
   "cell_type": "code",
   "execution_count": 4,
   "metadata": {},
   "outputs": [],
   "source": [
    "Oregon_df = pd.read_excel('table_8_offenses_known_to_law_enforcement_oregon_by_city_2013.xls')\n",
    "#Oregon_df"
   ]
  },
  {
   "cell_type": "code",
   "execution_count": 5,
   "metadata": {},
   "outputs": [],
   "source": [
    "df.columns = ['City', 'Population', 'Violent crime', 'Murder and nonnegligent manslaughter', \n",
    "              'Rape (revised definition) 1', 'Rape (legacy definition) 2', 'Robbery', 'Aggravated assault', \n",
    "              'Property crime', 'Burglary', 'Larceny theft', 'Motor vehicle theft', 'Arson 3']\n",
    "\n",
    "#df\n"
   ]
  },
  {
   "cell_type": "code",
   "execution_count": 6,
   "metadata": {},
   "outputs": [],
   "source": [
    "Oregon_df.columns = ['City', 'Population', 'Violent crime', 'Murder and nonnegligent manslaughter', \n",
    "                     'Rape (revised definition) 1','Rape (legacy definition) 2', 'Robbery', 'Aggravated assault',\n",
    "                     'Property crime', 'Burglary', 'Larceny theft', 'Motor vehicle theft', 'Arson']\n",
    "#Oregon_df                                                      "
   ]
  },
  {
   "cell_type": "code",
   "execution_count": 7,
   "metadata": {
    "scrolled": false
   },
   "outputs": [],
   "source": [
    "df = df.drop(0)\n",
    "df = df.drop(1)\n",
    "df = df.drop(2)\n",
    "df = df.drop(3)\n",
    "df = df.drop(columns = ['City', 'Rape (revised definition) 1', 'Rape (legacy definition) 2', 'Arson 3'])\n",
    "df = df.drop(352)\n",
    "df = df.drop(353)\n",
    "df = df.drop(354)\n",
    "\n",
    "#This line had values that were extreemly high, and causing heteroscedasity. \n",
    "#Helpful Method of Detection: Scatter Plot\n",
    "df = df.drop(220)\n",
    "\n",
    "\n",
    "\n",
    "#df.replace({'A': {0: 100, 4: 400}})\n",
    "\n",
    "#df"
   ]
  },
  {
   "cell_type": "code",
   "execution_count": 8,
   "metadata": {},
   "outputs": [],
   "source": [
    "Oregon_df = Oregon_df.drop(0)\n",
    "Oregon_df = Oregon_df.drop(1)\n",
    "Oregon_df = Oregon_df.drop(2)\n",
    "Oregon_df = Oregon_df.drop(3)\n",
    "Oregon_df = Oregon_df.drop(columns = ['City', 'Rape (revised definition) 1', 'Rape (legacy definition) 2', 'Arson'])\n",
    "Oregon_df = Oregon_df.drop(113)\n",
    "Oregon_df = Oregon_df.drop(114)\n",
    "Oregon_df = Oregon_df.dropna(how='all')\n",
    "#Oregon_df"
   ]
  },
  {
   "cell_type": "code",
   "execution_count": 9,
   "metadata": {},
   "outputs": [
    {
     "data": {
      "text/plain": [
       "Population                              2\n",
       "Violent crime                           0\n",
       "Murder and nonnegligent manslaughter    0\n",
       "Robbery                                 0\n",
       "Aggravated assault                      0\n",
       "Property crime                          0\n",
       "Burglary                                0\n",
       "Larceny theft                           0\n",
       "Motor vehicle theft                     0\n",
       "dtype: int64"
      ]
     },
     "execution_count": 9,
     "metadata": {},
     "output_type": "execute_result"
    }
   ],
   "source": [
    "Oregon_df.isna().sum()"
   ]
  },
  {
   "cell_type": "code",
   "execution_count": 10,
   "metadata": {},
   "outputs": [
    {
     "data": {
      "text/plain": [
       "Population                              0\n",
       "Violent crime                           0\n",
       "Murder and nonnegligent manslaughter    0\n",
       "Robbery                                 0\n",
       "Aggravated assault                      0\n",
       "Property crime                          0\n",
       "Burglary                                0\n",
       "Larceny theft                           0\n",
       "Motor vehicle theft                     0\n",
       "dtype: int64"
      ]
     },
     "execution_count": 10,
     "metadata": {},
     "output_type": "execute_result"
    }
   ],
   "source": [
    "df.isna().sum()"
   ]
  },
  {
   "cell_type": "code",
   "execution_count": 11,
   "metadata": {},
   "outputs": [
    {
     "data": {
      "text/plain": [
       "4       51645\n",
       "5        1624\n",
       "6       20455\n",
       "7        9543\n",
       "8        1144\n",
       "9        3738\n",
       "10       9660\n",
       "11       3039\n",
       "12       1862\n",
       "13      93551\n",
       "14      79926\n",
       "15        NaN\n",
       "16       3369\n",
       "17       6313\n",
       "18       2706\n",
       "19      16031\n",
       "20       1692\n",
       "21       2022\n",
       "22      17485\n",
       "23       1726\n",
       "24       1043\n",
       "25       1938\n",
       "26        722\n",
       "27      15816\n",
       "28       3826\n",
       "29      12231\n",
       "30      55218\n",
       "31       9795\n",
       "32      14803\n",
       "33       8669\n",
       "        ...  \n",
       "83       9161\n",
       "84       1887\n",
       "85      27153\n",
       "86       1313\n",
       "87       2173\n",
       "88     158234\n",
       "89       6677\n",
       "90       6475\n",
       "91      18932\n",
       "92       9380\n",
       "93      60024\n",
       "94       2058\n",
       "95       7733\n",
       "96      12917\n",
       "97        NaN\n",
       "98       9035\n",
       "99       6191\n",
       "100     13831\n",
       "101     50311\n",
       "102      4932\n",
       "103      3461\n",
       "104     16566\n",
       "105     26925\n",
       "106      1896\n",
       "107      7040\n",
       "108      5146\n",
       "109     25744\n",
       "110     20819\n",
       "111     24263\n",
       "112      1040\n",
       "Name: Population, Length: 109, dtype: object"
      ]
     },
     "execution_count": 11,
     "metadata": {},
     "output_type": "execute_result"
    }
   ],
   "source": [
    "Oregon_df['Population']"
   ]
  },
  {
   "cell_type": "code",
   "execution_count": 12,
   "metadata": {
    "scrolled": true
   },
   "outputs": [
    {
     "data": {
      "text/plain": [
       "Population                              0\n",
       "Violent crime                           0\n",
       "Murder and nonnegligent manslaughter    0\n",
       "Robbery                                 0\n",
       "Aggravated assault                      0\n",
       "Property crime                          0\n",
       "Burglary                                0\n",
       "Larceny theft                           0\n",
       "Motor vehicle theft                     0\n",
       "dtype: int64"
      ]
     },
     "execution_count": 12,
     "metadata": {},
     "output_type": "execute_result"
    }
   ],
   "source": [
    "df.isna().sum()\n"
   ]
  },
  {
   "cell_type": "code",
   "execution_count": 13,
   "metadata": {},
   "outputs": [
    {
     "data": {
      "text/plain": [
       "Population                              2\n",
       "Violent crime                           0\n",
       "Murder and nonnegligent manslaughter    0\n",
       "Robbery                                 0\n",
       "Aggravated assault                      0\n",
       "Property crime                          0\n",
       "Burglary                                0\n",
       "Larceny theft                           0\n",
       "Motor vehicle theft                     0\n",
       "dtype: int64"
      ]
     },
     "execution_count": 13,
     "metadata": {},
     "output_type": "execute_result"
    }
   ],
   "source": [
    "Oregon_df.isna().sum()"
   ]
  },
  {
   "cell_type": "code",
   "execution_count": 14,
   "metadata": {},
   "outputs": [],
   "source": [
    "Oregon_df = Oregon_df.dropna()\n",
    "#Oregon_df['Population']"
   ]
  },
  {
   "cell_type": "code",
   "execution_count": 15,
   "metadata": {},
   "outputs": [
    {
     "data": {
      "text/plain": [
       "Population                              0\n",
       "Violent crime                           0\n",
       "Murder and nonnegligent manslaughter    0\n",
       "Robbery                                 0\n",
       "Aggravated assault                      0\n",
       "Property crime                          0\n",
       "Burglary                                0\n",
       "Larceny theft                           0\n",
       "Motor vehicle theft                     0\n",
       "dtype: int64"
      ]
     },
     "execution_count": 15,
     "metadata": {},
     "output_type": "execute_result"
    }
   ],
   "source": [
    "Oregon_df.isna().sum()"
   ]
  },
  {
   "cell_type": "markdown",
   "metadata": {},
   "source": [
    "Oregon_corr = Oregon_df.corr()\n",
    "sns.heatmap(Oregon_corr, xticklabels=Oregon_corr.columns.values,\n",
    "           yticklabels=corr.columns.values)"
   ]
  },
  {
   "cell_type": "markdown",
   "metadata": {},
   "source": [
    "#Example: df.drop(columns=['B', 'C'])\n",
    "\n",
    "corr = df.corr()\n",
    "sns.heatmap(corr, xticklabels=corr.columns.values, \n",
    "            yticklabels=corr.columns.values)   "
   ]
  },
  {
   "cell_type": "code",
   "execution_count": null,
   "metadata": {},
   "outputs": [],
   "source": []
  },
  {
   "cell_type": "markdown",
   "metadata": {},
   "source": [
    "### Normalize for population then create scatter plots."
   ]
  },
  {
   "cell_type": "code",
   "execution_count": 16,
   "metadata": {},
   "outputs": [],
   "source": [
    "df['Property crime rate'] = df['Property crime'] / df['Population'] * 10000\n",
    "df['Murder and nonnegligent manslaughter rate'] = df['Murder and nonnegligent manslaughter'] / df['Population'] * 100000\n",
    "df['Robbery rate'] = df['Robbery'] / df['Population'] * 10000\n",
    "df['Aggravated assult rate'] = df['Aggravated assault'] / df['Population'] * 10000\n",
    "df['Burglary rate'] = df['Burglary'] / df['Population'] * 10000\n",
    "df['Larceny theft rate'] = df['Larceny theft'] / df['Population'] * 10000\n",
    "df['Motor vehicle theft rate'] = df['Motor vehicle theft'] / df['Population'] * 10000\n"
   ]
  },
  {
   "cell_type": "code",
   "execution_count": 17,
   "metadata": {},
   "outputs": [],
   "source": [
    "Oregon_df['Property crime rate'] = Oregon_df['Property crime'] / Oregon_df['Population'] * 10000\n",
    "Oregon_df['Murder and nonnegligent manslaughter rate'] = Oregon_df['Murder and nonnegligent manslaughter'] / Oregon_df['Population'] * 100000\n",
    "Oregon_df['Robbery rate'] = Oregon_df['Robbery'] / Oregon_df['Population'] * 10000\n",
    "Oregon_df['Aggravated assult rate'] = Oregon_df['Aggravated assault'] / Oregon_df['Population'] * 10000\n",
    "Oregon_df['Burglary rate'] = Oregon_df['Burglary'] / Oregon_df['Population'] * 10000\n",
    "Oregon_df['Larceny theft rate'] = Oregon_df['Larceny theft'] / Oregon_df['Population'] * 10000\n",
    "Oregon_df['Motor vehicle theft rate'] = Oregon_df['Motor vehicle theft'] / Oregon_df['Population'] * 10000\n"
   ]
  },
  {
   "cell_type": "code",
   "execution_count": null,
   "metadata": {},
   "outputs": [],
   "source": []
  },
  {
   "cell_type": "code",
   "execution_count": null,
   "metadata": {},
   "outputs": [],
   "source": []
  },
  {
   "cell_type": "code",
   "execution_count": null,
   "metadata": {},
   "outputs": [],
   "source": []
  },
  {
   "cell_type": "code",
   "execution_count": 18,
   "metadata": {},
   "outputs": [],
   "source": [
    "df = df.loc[df['Property crime rate'] < 800]"
   ]
  },
  {
   "cell_type": "code",
   "execution_count": 19,
   "metadata": {
    "scrolled": true
   },
   "outputs": [
    {
     "name": "stdout",
     "output_type": "stream",
     "text": [
      "Murder and nonnegligent manslaughter rate std:  7.106624843262038\n",
      "Murder and nonnegligent manslaughter rate mean:  3.711138544263213\n"
     ]
    },
    {
     "data": {
      "image/png": "[encoded data removed]",
      "text/plain": [
       "<Figure size 432x288 with 1 Axes>"
      ]
     },
     "metadata": {
      "needs_background": "light"
     },
     "output_type": "display_data"
    }
   ],
   "source": [
    "plt.scatter( df['Murder and nonnegligent manslaughter rate'], df['Property crime rate'])\n",
    "plt.show\n",
    "\n",
    "print('Murder and nonnegligent manslaughter rate std: ', df['Robbery rate'].std())\n",
    "\n",
    "print('Murder and nonnegligent manslaughter rate mean: ', df['Robbery rate'].mean())\n"
   ]
  },
  {
   "cell_type": "code",
   "execution_count": 20,
   "metadata": {},
   "outputs": [
    {
     "name": "stdout",
     "output_type": "stream",
     "text": [
      "Robbery rate std:  7.106624843262038\n",
      "Robbery rate mean:  3.711138544263213\n"
     ]
    },
    {
     "data": {
      "image/png": "[encoded data removed]",
      "text/plain": [
       "<Figure size 432x288 with 1 Axes>"
      ]
     },
     "metadata": {
      "needs_background": "light"
     },
     "output_type": "display_data"
    }
   ],
   "source": [
    "plt.scatter( df['Robbery rate'], df['Property crime rate'])\n",
    "plt.show\n",
    "\n",
    "print('Robbery rate std: ', df['Robbery rate'].std())\n",
    "\n",
    "print('Robbery rate mean: ', df['Robbery rate'].mean())\n"
   ]
  },
  {
   "cell_type": "code",
   "execution_count": 21,
   "metadata": {},
   "outputs": [
    {
     "data": {
      "text/plain": [
       "<function matplotlib.pyplot.show(*args, **kw)>"
      ]
     },
     "execution_count": 21,
     "metadata": {},
     "output_type": "execute_result"
    },
    {
     "data": {
      "image/png": "[encoded data removed]",
      "text/plain": [
       "<Figure size 432x288 with 1 Axes>"
      ]
     },
     "metadata": {
      "needs_background": "light"
     },
     "output_type": "display_data"
    }
   ],
   "source": [
    "plt.hist(df['Robbery rate'])\n",
    "plt.show"
   ]
  },
  {
   "cell_type": "markdown",
   "metadata": {},
   "source": [
    "df_Robbery_outlier = df.loc[(df['Robbery'] == 19170)]\n",
    "df_Robbery_outlier "
   ]
  },
  {
   "cell_type": "code",
   "execution_count": null,
   "metadata": {},
   "outputs": [],
   "source": []
  },
  {
   "cell_type": "code",
   "execution_count": 22,
   "metadata": {},
   "outputs": [
    {
     "name": "stdout",
     "output_type": "stream",
     "text": [
      "Burglary rate std:  28.031775147209085\n",
      "Burglary rate mean:  31.556769330443355\n"
     ]
    },
    {
     "data": {
      "image/png": "[encoded data removed]",
      "text/plain": [
       "<Figure size 432x288 with 1 Axes>"
      ]
     },
     "metadata": {
      "needs_background": "light"
     },
     "output_type": "display_data"
    }
   ],
   "source": [
    "plt.scatter(df['Burglary rate'], df['Property crime rate'])\n",
    "plt.show\n",
    "\n",
    "print('Burglary rate std: ', df['Burglary rate'].std())\n",
    "\n",
    "print('Burglary rate mean: ', df['Burglary rate'].mean())"
   ]
  },
  {
   "cell_type": "markdown",
   "metadata": {},
   "source": [
    "#Drop burglary outliers using the code below.\n",
    "df_Burglary_outlier_dropped = df.loc[(df['Burglary'] < 750)]\n",
    "df_Burglary_outlier_dropped "
   ]
  },
  {
   "cell_type": "markdown",
   "metadata": {},
   "source": [
    "df = df.replace({'Burglary': {1735: df['Burglary'].mean(), 1055: df['Burglary'].mean(),\n",
    "                      365: df['Burglary'].mean(), 696: df['Burglary'].mean()}})"
   ]
  },
  {
   "cell_type": "code",
   "execution_count": 23,
   "metadata": {},
   "outputs": [
    {
     "data": {
      "image/png": "[encoded data removed]",
      "text/plain": [
       "<Figure size 432x288 with 1 Axes>"
      ]
     },
     "metadata": {
      "needs_background": "light"
     },
     "output_type": "display_data"
    }
   ],
   "source": [
    "plt.hist(df['Burglary rate'])\n",
    "plt.show()"
   ]
  },
  {
   "cell_type": "code",
   "execution_count": 24,
   "metadata": {},
   "outputs": [
    {
     "name": "stdout",
     "output_type": "stream",
     "text": [
      "Larceny theft rate std:  112.85487423595046\n",
      "Larceny theft rate mean:  155.75558424835256\n"
     ]
    },
    {
     "data": {
      "image/png": "[encoded data removed]",
      "text/plain": [
       "<Figure size 432x288 with 1 Axes>"
      ]
     },
     "metadata": {
      "needs_background": "light"
     },
     "output_type": "display_data"
    }
   ],
   "source": [
    "plt.scatter(df['Larceny theft rate'], df['Property crime rate'])\n",
    "plt.show\n",
    "\n",
    "print('Larceny theft rate std: ', df['Larceny theft rate'].std())\n",
    "\n",
    "print('Larceny theft rate mean: ', df['Larceny theft rate'].mean())"
   ]
  },
  {
   "cell_type": "code",
   "execution_count": 25,
   "metadata": {},
   "outputs": [
    {
     "name": "stdout",
     "output_type": "stream",
     "text": [
      "Motor vehicle theft rate std:  5.8769323069335675\n",
      "Motor vehicle theft rate mean:  4.56197234767056\n"
     ]
    },
    {
     "data": {
      "image/png": "[encoded data removed]",
      "text/plain": [
       "<Figure size 432x288 with 1 Axes>"
      ]
     },
     "metadata": {
      "needs_background": "light"
     },
     "output_type": "display_data"
    }
   ],
   "source": [
    "plt.scatter(df['Motor vehicle theft rate'], df['Property crime rate'])\n",
    "plt.show\n",
    "\n",
    "print('Motor vehicle theft rate std: ', df['Motor vehicle theft rate'].std())\n",
    "\n",
    "print('Motor vehicle theft rate mean: ', df['Motor vehicle theft rate'].mean())"
   ]
  },
  {
   "cell_type": "code",
   "execution_count": 26,
   "metadata": {},
   "outputs": [],
   "source": [
    "Y_train = df['Property crime rate']\n",
    "X_train = df[['Murder and nonnegligent manslaughter rate','Robbery rate', 'Burglary rate',\n",
    "           'Larceny theft rate', 'Motor vehicle theft rate']]"
   ]
  },
  {
   "cell_type": "code",
   "execution_count": 27,
   "metadata": {},
   "outputs": [],
   "source": [
    "Y1 = Oregon_df['Property crime rate']\n",
    "X1 = Oregon_df[['Murder and nonnegligent manslaughter rate', 'Robbery rate', 'Burglary rate',\n",
    "           'Larceny theft rate', 'Motor vehicle theft rate']]"
   ]
  },
  {
   "cell_type": "code",
   "execution_count": 28,
   "metadata": {},
   "outputs": [
    {
     "data": {
      "text/html": [
       "<div>\n",
       "<style scoped>\n",
       "    .dataframe tbody tr th:only-of-type {\n",
       "        vertical-align: middle;\n",
       "    }\n",
       "\n",
       "    .dataframe tbody tr th {\n",
       "        vertical-align: top;\n",
       "    }\n",
       "\n",
       "    .dataframe thead th {\n",
       "        text-align: right;\n",
       "    }\n",
       "</style>\n",
       "<table border=\"1\" class=\"dataframe\">\n",
       "  <thead>\n",
       "    <tr style=\"text-align: right;\">\n",
       "      <th></th>\n",
       "      <th>Murder and nonnegligent manslaughter rate</th>\n",
       "      <th>Robbery rate</th>\n",
       "      <th>Burglary rate</th>\n",
       "      <th>Larceny theft rate</th>\n",
       "      <th>Motor vehicle theft rate</th>\n",
       "    </tr>\n",
       "  </thead>\n",
       "  <tbody>\n",
       "    <tr>\n",
       "      <th>4</th>\n",
       "      <td>0.000</td>\n",
       "      <td>0.000</td>\n",
       "      <td>10.747</td>\n",
       "      <td>53.735</td>\n",
       "      <td>0.000</td>\n",
       "    </tr>\n",
       "    <tr>\n",
       "      <th>5</th>\n",
       "      <td>0.000</td>\n",
       "      <td>0.000</td>\n",
       "      <td>11.641</td>\n",
       "      <td>77.610</td>\n",
       "      <td>3.880</td>\n",
       "    </tr>\n",
       "    <tr>\n",
       "      <th>6</th>\n",
       "      <td>0.000</td>\n",
       "      <td>0.000</td>\n",
       "      <td>3.514</td>\n",
       "      <td>52.706</td>\n",
       "      <td>0.000</td>\n",
       "    </tr>\n",
       "    <tr>\n",
       "      <th>7</th>\n",
       "      <td>8.167</td>\n",
       "      <td>23.174</td>\n",
       "      <td>71.971</td>\n",
       "      <td>331.067</td>\n",
       "      <td>14.496</td>\n",
       "    </tr>\n",
       "    <tr>\n",
       "      <th>8</th>\n",
       "      <td>0.000</td>\n",
       "      <td>6.262</td>\n",
       "      <td>82.968</td>\n",
       "      <td>258.297</td>\n",
       "      <td>7.827</td>\n",
       "    </tr>\n",
       "    <tr>\n",
       "      <th>9</th>\n",
       "      <td>0.000</td>\n",
       "      <td>7.337</td>\n",
       "      <td>24.456</td>\n",
       "      <td>88.041</td>\n",
       "      <td>0.000</td>\n",
       "    </tr>\n",
       "    <tr>\n",
       "      <th>10</th>\n",
       "      <td>0.000</td>\n",
       "      <td>0.000</td>\n",
       "      <td>0.000</td>\n",
       "      <td>56.148</td>\n",
       "      <td>0.000</td>\n",
       "    </tr>\n",
       "    <tr>\n",
       "      <th>11</th>\n",
       "      <td>0.845</td>\n",
       "      <td>2.621</td>\n",
       "      <td>17.245</td>\n",
       "      <td>159.092</td>\n",
       "      <td>2.705</td>\n",
       "    </tr>\n",
       "    <tr>\n",
       "      <th>12</th>\n",
       "      <td>0.000</td>\n",
       "      <td>4.202</td>\n",
       "      <td>16.808</td>\n",
       "      <td>197.500</td>\n",
       "      <td>6.303</td>\n",
       "    </tr>\n",
       "    <tr>\n",
       "      <th>13</th>\n",
       "      <td>0.000</td>\n",
       "      <td>6.600</td>\n",
       "      <td>54.449</td>\n",
       "      <td>160.048</td>\n",
       "      <td>8.250</td>\n",
       "    </tr>\n",
       "    <tr>\n",
       "      <th>14</th>\n",
       "      <td>0.000</td>\n",
       "      <td>0.000</td>\n",
       "      <td>14.613</td>\n",
       "      <td>170.482</td>\n",
       "      <td>4.871</td>\n",
       "    </tr>\n",
       "    <tr>\n",
       "      <th>15</th>\n",
       "      <td>0.000</td>\n",
       "      <td>6.633</td>\n",
       "      <td>8.844</td>\n",
       "      <td>61.906</td>\n",
       "      <td>2.211</td>\n",
       "    </tr>\n",
       "    <tr>\n",
       "      <th>16</th>\n",
       "      <td>0.000</td>\n",
       "      <td>0.000</td>\n",
       "      <td>0.000</td>\n",
       "      <td>30.395</td>\n",
       "      <td>0.000</td>\n",
       "    </tr>\n",
       "    <tr>\n",
       "      <th>17</th>\n",
       "      <td>0.000</td>\n",
       "      <td>0.000</td>\n",
       "      <td>0.000</td>\n",
       "      <td>15.860</td>\n",
       "      <td>3.965</td>\n",
       "    </tr>\n",
       "    <tr>\n",
       "      <th>18</th>\n",
       "      <td>3.667</td>\n",
       "      <td>8.067</td>\n",
       "      <td>48.405</td>\n",
       "      <td>264.393</td>\n",
       "      <td>2.200</td>\n",
       "    </tr>\n",
       "    <tr>\n",
       "      <th>19</th>\n",
       "      <td>0.000</td>\n",
       "      <td>3.000</td>\n",
       "      <td>9.001</td>\n",
       "      <td>60.006</td>\n",
       "      <td>6.001</td>\n",
       "    </tr>\n",
       "    <tr>\n",
       "      <th>20</th>\n",
       "      <td>0.000</td>\n",
       "      <td>1.338</td>\n",
       "      <td>13.382</td>\n",
       "      <td>103.038</td>\n",
       "      <td>1.338</td>\n",
       "    </tr>\n",
       "    <tr>\n",
       "      <th>21</th>\n",
       "      <td>0.000</td>\n",
       "      <td>5.537</td>\n",
       "      <td>29.531</td>\n",
       "      <td>143.965</td>\n",
       "      <td>0.000</td>\n",
       "    </tr>\n",
       "    <tr>\n",
       "      <th>22</th>\n",
       "      <td>0.000</td>\n",
       "      <td>8.456</td>\n",
       "      <td>66.996</td>\n",
       "      <td>295.304</td>\n",
       "      <td>1.301</td>\n",
       "    </tr>\n",
       "    <tr>\n",
       "      <th>23</th>\n",
       "      <td>0.000</td>\n",
       "      <td>5.233</td>\n",
       "      <td>55.817</td>\n",
       "      <td>273.853</td>\n",
       "      <td>3.489</td>\n",
       "    </tr>\n",
       "    <tr>\n",
       "      <th>24</th>\n",
       "      <td>0.000</td>\n",
       "      <td>0.567</td>\n",
       "      <td>14.750</td>\n",
       "      <td>72.049</td>\n",
       "      <td>1.702</td>\n",
       "    </tr>\n",
       "    <tr>\n",
       "      <th>25</th>\n",
       "      <td>0.000</td>\n",
       "      <td>0.876</td>\n",
       "      <td>14.602</td>\n",
       "      <td>113.308</td>\n",
       "      <td>1.168</td>\n",
       "    </tr>\n",
       "    <tr>\n",
       "      <th>26</th>\n",
       "      <td>6.479</td>\n",
       "      <td>21.812</td>\n",
       "      <td>113.381</td>\n",
       "      <td>381.609</td>\n",
       "      <td>12.310</td>\n",
       "    </tr>\n",
       "    <tr>\n",
       "      <th>27</th>\n",
       "      <td>0.000</td>\n",
       "      <td>0.000</td>\n",
       "      <td>14.184</td>\n",
       "      <td>85.106</td>\n",
       "      <td>0.000</td>\n",
       "    </tr>\n",
       "    <tr>\n",
       "      <th>28</th>\n",
       "      <td>0.000</td>\n",
       "      <td>0.000</td>\n",
       "      <td>16.665</td>\n",
       "      <td>59.995</td>\n",
       "      <td>5.833</td>\n",
       "    </tr>\n",
       "    <tr>\n",
       "      <th>29</th>\n",
       "      <td>0.000</td>\n",
       "      <td>0.000</td>\n",
       "      <td>19.569</td>\n",
       "      <td>19.569</td>\n",
       "      <td>0.000</td>\n",
       "    </tr>\n",
       "    <tr>\n",
       "      <th>30</th>\n",
       "      <td>0.000</td>\n",
       "      <td>0.000</td>\n",
       "      <td>17.204</td>\n",
       "      <td>86.022</td>\n",
       "      <td>0.000</td>\n",
       "    </tr>\n",
       "    <tr>\n",
       "      <th>31</th>\n",
       "      <td>0.000</td>\n",
       "      <td>0.000</td>\n",
       "      <td>29.211</td>\n",
       "      <td>68.160</td>\n",
       "      <td>0.000</td>\n",
       "    </tr>\n",
       "    <tr>\n",
       "      <th>32</th>\n",
       "      <td>0.000</td>\n",
       "      <td>4.843</td>\n",
       "      <td>43.584</td>\n",
       "      <td>96.852</td>\n",
       "      <td>9.685</td>\n",
       "    </tr>\n",
       "    <tr>\n",
       "      <th>33</th>\n",
       "      <td>0.000</td>\n",
       "      <td>0.000</td>\n",
       "      <td>12.723</td>\n",
       "      <td>42.409</td>\n",
       "      <td>0.000</td>\n",
       "    </tr>\n",
       "    <tr>\n",
       "      <th>...</th>\n",
       "      <td>...</td>\n",
       "      <td>...</td>\n",
       "      <td>...</td>\n",
       "      <td>...</td>\n",
       "      <td>...</td>\n",
       "    </tr>\n",
       "    <tr>\n",
       "      <th>322</th>\n",
       "      <td>0.000</td>\n",
       "      <td>0.000</td>\n",
       "      <td>60.406</td>\n",
       "      <td>161.999</td>\n",
       "      <td>5.491</td>\n",
       "    </tr>\n",
       "    <tr>\n",
       "      <th>323</th>\n",
       "      <td>0.000</td>\n",
       "      <td>0.000</td>\n",
       "      <td>0.000</td>\n",
       "      <td>0.000</td>\n",
       "      <td>0.000</td>\n",
       "    </tr>\n",
       "    <tr>\n",
       "      <th>324</th>\n",
       "      <td>0.000</td>\n",
       "      <td>1.640</td>\n",
       "      <td>20.500</td>\n",
       "      <td>336.203</td>\n",
       "      <td>1.640</td>\n",
       "    </tr>\n",
       "    <tr>\n",
       "      <th>325</th>\n",
       "      <td>11.348</td>\n",
       "      <td>16.535</td>\n",
       "      <td>72.788</td>\n",
       "      <td>323.736</td>\n",
       "      <td>13.293</td>\n",
       "    </tr>\n",
       "    <tr>\n",
       "      <th>326</th>\n",
       "      <td>0.000</td>\n",
       "      <td>2.144</td>\n",
       "      <td>13.939</td>\n",
       "      <td>186.919</td>\n",
       "      <td>3.217</td>\n",
       "    </tr>\n",
       "    <tr>\n",
       "      <th>327</th>\n",
       "      <td>14.520</td>\n",
       "      <td>1.452</td>\n",
       "      <td>18.876</td>\n",
       "      <td>180.049</td>\n",
       "      <td>7.260</td>\n",
       "    </tr>\n",
       "    <tr>\n",
       "      <th>328</th>\n",
       "      <td>0.000</td>\n",
       "      <td>5.727</td>\n",
       "      <td>32.570</td>\n",
       "      <td>232.641</td>\n",
       "      <td>9.306</td>\n",
       "    </tr>\n",
       "    <tr>\n",
       "      <th>329</th>\n",
       "      <td>0.000</td>\n",
       "      <td>0.000</td>\n",
       "      <td>59.761</td>\n",
       "      <td>166.003</td>\n",
       "      <td>0.000</td>\n",
       "    </tr>\n",
       "    <tr>\n",
       "      <th>330</th>\n",
       "      <td>0.000</td>\n",
       "      <td>0.000</td>\n",
       "      <td>14.480</td>\n",
       "      <td>211.410</td>\n",
       "      <td>0.000</td>\n",
       "    </tr>\n",
       "    <tr>\n",
       "      <th>331</th>\n",
       "      <td>0.000</td>\n",
       "      <td>1.716</td>\n",
       "      <td>8.579</td>\n",
       "      <td>87.509</td>\n",
       "      <td>3.432</td>\n",
       "    </tr>\n",
       "    <tr>\n",
       "      <th>332</th>\n",
       "      <td>0.000</td>\n",
       "      <td>0.000</td>\n",
       "      <td>7.150</td>\n",
       "      <td>61.964</td>\n",
       "      <td>1.192</td>\n",
       "    </tr>\n",
       "    <tr>\n",
       "      <th>333</th>\n",
       "      <td>0.000</td>\n",
       "      <td>5.797</td>\n",
       "      <td>44.444</td>\n",
       "      <td>326.570</td>\n",
       "      <td>3.865</td>\n",
       "    </tr>\n",
       "    <tr>\n",
       "      <th>334</th>\n",
       "      <td>0.000</td>\n",
       "      <td>5.678</td>\n",
       "      <td>59.974</td>\n",
       "      <td>338.195</td>\n",
       "      <td>15.260</td>\n",
       "    </tr>\n",
       "    <tr>\n",
       "      <th>335</th>\n",
       "      <td>9.761</td>\n",
       "      <td>10.737</td>\n",
       "      <td>56.613</td>\n",
       "      <td>159.102</td>\n",
       "      <td>20.498</td>\n",
       "    </tr>\n",
       "    <tr>\n",
       "      <th>336</th>\n",
       "      <td>0.000</td>\n",
       "      <td>0.000</td>\n",
       "      <td>53.706</td>\n",
       "      <td>429.646</td>\n",
       "      <td>10.741</td>\n",
       "    </tr>\n",
       "    <tr>\n",
       "      <th>337</th>\n",
       "      <td>0.000</td>\n",
       "      <td>2.306</td>\n",
       "      <td>20.752</td>\n",
       "      <td>94.535</td>\n",
       "      <td>9.223</td>\n",
       "    </tr>\n",
       "    <tr>\n",
       "      <th>338</th>\n",
       "      <td>0.000</td>\n",
       "      <td>0.685</td>\n",
       "      <td>23.071</td>\n",
       "      <td>82.463</td>\n",
       "      <td>1.599</td>\n",
       "    </tr>\n",
       "    <tr>\n",
       "      <th>339</th>\n",
       "      <td>0.000</td>\n",
       "      <td>0.000</td>\n",
       "      <td>27.824</td>\n",
       "      <td>111.297</td>\n",
       "      <td>0.000</td>\n",
       "    </tr>\n",
       "    <tr>\n",
       "      <th>340</th>\n",
       "      <td>0.000</td>\n",
       "      <td>0.000</td>\n",
       "      <td>69.961</td>\n",
       "      <td>282.029</td>\n",
       "      <td>6.559</td>\n",
       "    </tr>\n",
       "    <tr>\n",
       "      <th>341</th>\n",
       "      <td>0.000</td>\n",
       "      <td>0.000</td>\n",
       "      <td>23.095</td>\n",
       "      <td>213.626</td>\n",
       "      <td>17.321</td>\n",
       "    </tr>\n",
       "    <tr>\n",
       "      <th>342</th>\n",
       "      <td>2.231</td>\n",
       "      <td>2.008</td>\n",
       "      <td>37.036</td>\n",
       "      <td>158.408</td>\n",
       "      <td>4.462</td>\n",
       "    </tr>\n",
       "    <tr>\n",
       "      <th>343</th>\n",
       "      <td>0.000</td>\n",
       "      <td>0.000</td>\n",
       "      <td>46.083</td>\n",
       "      <td>188.172</td>\n",
       "      <td>3.840</td>\n",
       "    </tr>\n",
       "    <tr>\n",
       "      <th>344</th>\n",
       "      <td>1.737</td>\n",
       "      <td>4.865</td>\n",
       "      <td>13.378</td>\n",
       "      <td>197.015</td>\n",
       "      <td>3.648</td>\n",
       "    </tr>\n",
       "    <tr>\n",
       "      <th>345</th>\n",
       "      <td>0.000</td>\n",
       "      <td>0.000</td>\n",
       "      <td>37.503</td>\n",
       "      <td>56.255</td>\n",
       "      <td>2.679</td>\n",
       "    </tr>\n",
       "    <tr>\n",
       "      <th>346</th>\n",
       "      <td>0.000</td>\n",
       "      <td>0.000</td>\n",
       "      <td>14.222</td>\n",
       "      <td>66.732</td>\n",
       "      <td>3.282</td>\n",
       "    </tr>\n",
       "    <tr>\n",
       "      <th>347</th>\n",
       "      <td>0.000</td>\n",
       "      <td>1.872</td>\n",
       "      <td>8.423</td>\n",
       "      <td>495.087</td>\n",
       "      <td>2.808</td>\n",
       "    </tr>\n",
       "    <tr>\n",
       "      <th>348</th>\n",
       "      <td>0.000</td>\n",
       "      <td>0.000</td>\n",
       "      <td>96.502</td>\n",
       "      <td>108.565</td>\n",
       "      <td>0.000</td>\n",
       "    </tr>\n",
       "    <tr>\n",
       "      <th>349</th>\n",
       "      <td>0.000</td>\n",
       "      <td>0.000</td>\n",
       "      <td>21.919</td>\n",
       "      <td>75.873</td>\n",
       "      <td>0.000</td>\n",
       "    </tr>\n",
       "    <tr>\n",
       "      <th>350</th>\n",
       "      <td>3.013</td>\n",
       "      <td>19.585</td>\n",
       "      <td>23.602</td>\n",
       "      <td>83.461</td>\n",
       "      <td>11.851</td>\n",
       "    </tr>\n",
       "    <tr>\n",
       "      <th>351</th>\n",
       "      <td>0.000</td>\n",
       "      <td>0.546</td>\n",
       "      <td>12.281</td>\n",
       "      <td>78.323</td>\n",
       "      <td>0.546</td>\n",
       "    </tr>\n",
       "  </tbody>\n",
       "</table>\n",
       "<p>346 rows × 5 columns</p>\n",
       "</div>"
      ],
      "text/plain": [
       "    Murder and nonnegligent manslaughter rate Robbery rate Burglary rate  \\\n",
       "4                                       0.000        0.000        10.747   \n",
       "5                                       0.000        0.000        11.641   \n",
       "6                                       0.000        0.000         3.514   \n",
       "7                                       8.167       23.174        71.971   \n",
       "8                                       0.000        6.262        82.968   \n",
       "9                                       0.000        7.337        24.456   \n",
       "10                                      0.000        0.000         0.000   \n",
       "11                                      0.845        2.621        17.245   \n",
       "12                                      0.000        4.202        16.808   \n",
       "13                                      0.000        6.600        54.449   \n",
       "14                                      0.000        0.000        14.613   \n",
       "15                                      0.000        6.633         8.844   \n",
       "16                                      0.000        0.000         0.000   \n",
       "17                                      0.000        0.000         0.000   \n",
       "18                                      3.667        8.067        48.405   \n",
       "19                                      0.000        3.000         9.001   \n",
       "20                                      0.000        1.338        13.382   \n",
       "21                                      0.000        5.537        29.531   \n",
       "22                                      0.000        8.456        66.996   \n",
       "23                                      0.000        5.233        55.817   \n",
       "24                                      0.000        0.567        14.750   \n",
       "25                                      0.000        0.876        14.602   \n",
       "26                                      6.479       21.812       113.381   \n",
       "27                                      0.000        0.000        14.184   \n",
       "28                                      0.000        0.000        16.665   \n",
       "29                                      0.000        0.000        19.569   \n",
       "30                                      0.000        0.000        17.204   \n",
       "31                                      0.000        0.000        29.211   \n",
       "32                                      0.000        4.843        43.584   \n",
       "33                                      0.000        0.000        12.723   \n",
       "..                                        ...          ...           ...   \n",
       "322                                     0.000        0.000        60.406   \n",
       "323                                     0.000        0.000         0.000   \n",
       "324                                     0.000        1.640        20.500   \n",
       "325                                    11.348       16.535        72.788   \n",
       "326                                     0.000        2.144        13.939   \n",
       "327                                    14.520        1.452        18.876   \n",
       "328                                     0.000        5.727        32.570   \n",
       "329                                     0.000        0.000        59.761   \n",
       "330                                     0.000        0.000        14.480   \n",
       "331                                     0.000        1.716         8.579   \n",
       "332                                     0.000        0.000         7.150   \n",
       "333                                     0.000        5.797        44.444   \n",
       "334                                     0.000        5.678        59.974   \n",
       "335                                     9.761       10.737        56.613   \n",
       "336                                     0.000        0.000        53.706   \n",
       "337                                     0.000        2.306        20.752   \n",
       "338                                     0.000        0.685        23.071   \n",
       "339                                     0.000        0.000        27.824   \n",
       "340                                     0.000        0.000        69.961   \n",
       "341                                     0.000        0.000        23.095   \n",
       "342                                     2.231        2.008        37.036   \n",
       "343                                     0.000        0.000        46.083   \n",
       "344                                     1.737        4.865        13.378   \n",
       "345                                     0.000        0.000        37.503   \n",
       "346                                     0.000        0.000        14.222   \n",
       "347                                     0.000        1.872         8.423   \n",
       "348                                     0.000        0.000        96.502   \n",
       "349                                     0.000        0.000        21.919   \n",
       "350                                     3.013       19.585        23.602   \n",
       "351                                     0.000        0.546        12.281   \n",
       "\n",
       "    Larceny theft rate Motor vehicle theft rate  \n",
       "4               53.735                    0.000  \n",
       "5               77.610                    3.880  \n",
       "6               52.706                    0.000  \n",
       "7              331.067                   14.496  \n",
       "8              258.297                    7.827  \n",
       "9               88.041                    0.000  \n",
       "10              56.148                    0.000  \n",
       "11             159.092                    2.705  \n",
       "12             197.500                    6.303  \n",
       "13             160.048                    8.250  \n",
       "14             170.482                    4.871  \n",
       "15              61.906                    2.211  \n",
       "16              30.395                    0.000  \n",
       "17              15.860                    3.965  \n",
       "18             264.393                    2.200  \n",
       "19              60.006                    6.001  \n",
       "20             103.038                    1.338  \n",
       "21             143.965                    0.000  \n",
       "22             295.304                    1.301  \n",
       "23             273.853                    3.489  \n",
       "24              72.049                    1.702  \n",
       "25             113.308                    1.168  \n",
       "26             381.609                   12.310  \n",
       "27              85.106                    0.000  \n",
       "28              59.995                    5.833  \n",
       "29              19.569                    0.000  \n",
       "30              86.022                    0.000  \n",
       "31              68.160                    0.000  \n",
       "32              96.852                    9.685  \n",
       "33              42.409                    0.000  \n",
       "..                 ...                      ...  \n",
       "322            161.999                    5.491  \n",
       "323              0.000                    0.000  \n",
       "324            336.203                    1.640  \n",
       "325            323.736                   13.293  \n",
       "326            186.919                    3.217  \n",
       "327            180.049                    7.260  \n",
       "328            232.641                    9.306  \n",
       "329            166.003                    0.000  \n",
       "330            211.410                    0.000  \n",
       "331             87.509                    3.432  \n",
       "332             61.964                    1.192  \n",
       "333            326.570                    3.865  \n",
       "334            338.195                   15.260  \n",
       "335            159.102                   20.498  \n",
       "336            429.646                   10.741  \n",
       "337             94.535                    9.223  \n",
       "338             82.463                    1.599  \n",
       "339            111.297                    0.000  \n",
       "340            282.029                    6.559  \n",
       "341            213.626                   17.321  \n",
       "342            158.408                    4.462  \n",
       "343            188.172                    3.840  \n",
       "344            197.015                    3.648  \n",
       "345             56.255                    2.679  \n",
       "346             66.732                    3.282  \n",
       "347            495.087                    2.808  \n",
       "348            108.565                    0.000  \n",
       "349             75.873                    0.000  \n",
       "350             83.461                   11.851  \n",
       "351             78.323                    0.546  \n",
       "\n",
       "[346 rows x 5 columns]"
      ]
     },
     "execution_count": 28,
     "metadata": {},
     "output_type": "execute_result"
    }
   ],
   "source": [
    "X_train"
   ]
  },
  {
   "cell_type": "code",
   "execution_count": 29,
   "metadata": {},
   "outputs": [],
   "source": [
    "#df['Arson 3 rate'].isna().value_counts()"
   ]
  },
  {
   "cell_type": "code",
   "execution_count": 30,
   "metadata": {},
   "outputs": [],
   "source": [
    "#Scale the selected features\n",
    "X_train = StandardScaler().fit_transform(X_train)"
   ]
  },
  {
   "cell_type": "code",
   "execution_count": 31,
   "metadata": {},
   "outputs": [],
   "source": [
    "X1 = StandardScaler().fit_transform(X1)"
   ]
  },
  {
   "cell_type": "code",
   "execution_count": 32,
   "metadata": {},
   "outputs": [
    {
     "data": {
      "text/plain": [
       "LinearRegression(copy_X=True, fit_intercept=True, n_jobs=1, normalize=False)"
      ]
     },
     "execution_count": 32,
     "metadata": {},
     "output_type": "execute_result"
    }
   ],
   "source": [
    "## Instantiate and fit the training model.\n",
    "regr = linear_model.LinearRegression()\n",
    "regr.fit(X1, Y1)"
   ]
  },
  {
   "cell_type": "code",
   "execution_count": 33,
   "metadata": {},
   "outputs": [
    {
     "data": {
      "text/plain": [
       "LinearRegression(copy_X=True, fit_intercept=True, n_jobs=1, normalize=False)"
      ]
     },
     "execution_count": 33,
     "metadata": {},
     "output_type": "execute_result"
    }
   ],
   "source": [
    "## Instantiate and fit the training model.\n",
    "regr_train = linear_model.LinearRegression()\n",
    "regr_train.fit(X_train, Y_train)"
   ]
  },
  {
   "cell_type": "code",
   "execution_count": 34,
   "metadata": {
    "scrolled": true
   },
   "outputs": [
    {
     "name": "stdout",
     "output_type": "stream",
     "text": [
      "\n",
      "Training Model Inspection Results:\n",
      "\n",
      "Coefficients: \n",
      " [-3.38135203e-14 -3.55271368e-14  2.79912375e+01  1.12691671e+02\n",
      "  5.86843348e+00]\n",
      "\n",
      "Intercept: \n",
      " 191.87432592646653\n",
      "\n",
      "R-squared: 1.0\n"
     ]
    }
   ],
   "source": [
    "# Inspect the results\n",
    "print('\\nTraining Model Inspection Results:')\n",
    "print('\\nCoefficients: \\n', regr_train.coef_)\n",
    "print('\\nIntercept: \\n', regr_train.intercept_)\n",
    "print('\\nR-squared:', regr_train.score(X_train, Y_train))"
   ]
  },
  {
   "cell_type": "code",
   "execution_count": 35,
   "metadata": {},
   "outputs": [
    {
     "name": "stdout",
     "output_type": "stream",
     "text": [
      "\n",
      "Test Model Inspection Results:\n",
      "\n",
      "Coefficients: \n",
      " [-3.38135203e-14 -3.55271368e-14  2.79912375e+01  1.12691671e+02\n",
      "  5.86843348e+00]\n",
      "\n",
      "Intercept: \n",
      " 191.87432592646653\n",
      "\n",
      "R-squared: 0.574092431372528\n"
     ]
    }
   ],
   "source": [
    "# Inspect the results.  The Oregon data is my test set.\n",
    "print('\\nTest Model Inspection Results:')\n",
    "print('\\nCoefficients: \\n', regr_train.coef_)\n",
    "print('\\nIntercept: \\n', regr_train.intercept_)\n",
    "print('\\nR-squared:', regr_train.score(X1, Y1))"
   ]
  },
  {
   "cell_type": "code",
   "execution_count": 36,
   "metadata": {},
   "outputs": [
    {
     "name": "stdout",
     "output_type": "stream",
     "text": [
      "\n",
      "Training Model Predition Standard Deviation: 135.01822481841577\n"
     ]
    }
   ],
   "source": [
    "Y_train_pred = regr_train.predict(X_train)\n",
    "print('\\nTraining Model Predition Standard Deviation:', Y_train_pred.std())"
   ]
  },
  {
   "cell_type": "code",
   "execution_count": 37,
   "metadata": {},
   "outputs": [
    {
     "name": "stdout",
     "output_type": "stream",
     "text": [
      "\n",
      "Test Model Predition Standard Deviation: 136.47158468754915\n"
     ]
    }
   ],
   "source": [
    "Y1_pred = regr_train.predict(X1)\n",
    "print('\\nTest Model Predition Standard Deviation:', Y1_pred.std())"
   ]
  },
  {
   "cell_type": "markdown",
   "metadata": {},
   "source": [
    "## This is a more elegant solution for converting df['Robbery'] to a series of binary values:\n",
    "\n",
    "df['Robbery binary'] = df['Robbery'].apply(lambda x: 1 if x > 0 else 0)"
   ]
  },
  {
   "cell_type": "markdown",
   "metadata": {},
   "source": [
    "# K Nearest Neighbors Regression Model"
   ]
  },
  {
   "cell_type": "code",
   "execution_count": 42,
   "metadata": {},
   "outputs": [],
   "source": [
    "#When you apply a mathematical operation to an array, it applies the operation to all elements in the array\n",
    "def isd(a):\n",
    "    #use sklearn to mask cases in which the input data point turns out to be located exactly on top of \n",
    "    #the existing data point, resulting in zero.\n",
    "    return 1 / a**2"
   ]
  },
  {
   "cell_type": "code",
   "execution_count": 43,
   "metadata": {},
   "outputs": [],
   "source": [
    "#Note: Weight by inverse distance square reduces the impotance of points that are outliers.\n",
    "#Remember I am just dealing with distance. "
   ]
  },
  {
   "cell_type": "code",
   "execution_count": 60,
   "metadata": {},
   "outputs": [],
   "source": [
    "# Run the same model, this time with weights.\n",
    "knn_w = neighbors.KNeighborsRegressor(n_neighbors=3, weights='uniform')\n",
    "#X = pd.DataFrame(a)\n",
    "\n",
    "#My features:\n",
    "#X_train and Y_train\n",
    "\n",
    "knn_w.fit(X_train, Y_train)\n",
    "\n",
    "# Set up our prediction line.\n",
    "#I need to comment out all of the graphing code below, because this graphing assums that I have only two input feature \n",
    "#(i.e. an two dimensional object).\n",
    "#However, because I am now using three features, I am working with a three dimensional object.\n",
    "#T is only one column of numbers. However, X is two columns, loudness and duration, so I cannot use T.\n",
    "#T = np.arange(0, 50, 0.01)[:,np.newaxis]\n",
    "\n",
    "#Y_ = knn_w.predict(T)\n",
    "\n",
    "Y_train_pred = knn_w.predict(X_train)\n",
    "\n",
    "#graphing code commented out, due two the use of a three dimensional object, i.e. working with three features. \n",
    "#plt.scatter(X, Y, c='k', label='data')\n",
    "#plt.plot(T, Y_, c='g', label='prediction')\n",
    "#plt.legend()\n",
    "#plt.title('K=10, Weighted')\n",
    "#plt.show()\n",
    "\n"
   ]
  },
  {
   "cell_type": "code",
   "execution_count": 54,
   "metadata": {},
   "outputs": [
    {
     "name": "stdout",
     "output_type": "stream",
     "text": [
      "OLS score_w [1. 1. 1. 1. 1. 1. 1. 1. 1. 1.]\n",
      "Weighted Accuracy: 1.00 (+/- 0.00)\n",
      "[1. 1. 1. 1. 1. 1. 1. 1. 1. 1.]\n"
     ]
    }
   ],
   "source": [
    "# OLS Cross Validation\n",
    "#larceny fits property crime very well.  This is causeing the 1. values below.  Change print labels.\n",
    "\n",
    "from sklearn.model_selection import cross_val_score\n",
    "#score = cross_val_score(knn_w, X_train, Y_train, cv=10)\n",
    "#print('score', score)\n",
    "#print(\"Unweighted Accuracy: %0.2f (+/- %0.2f)\" % (score.mean(), score.std() * 2))\n",
    "OLS_score_w = cross_val_score(regr_train, X_train, Y_train, cv=10)\n",
    "print('OLS score_w', OLS_score_w)\n",
    "print(\"Weighted Accuracy: %0.2f (+/- %0.2f)\" % (OLS_score_w.mean(), OLS_score_w.std() * 2))\n",
    "print(score_w)"
   ]
  },
  {
   "cell_type": "code",
   "execution_count": 57,
   "metadata": {
    "scrolled": true
   },
   "outputs": [
    {
     "name": "stdout",
     "output_type": "stream",
     "text": [
      "KNN score_w [0.96191738 0.98619053 0.9642363  0.98021342 0.90539652 0.97933685\n",
      " 0.95201978 0.93900403 0.93417168 0.93834034]\n",
      "KNN Weighted Accuracy: 0.95 (+/- 0.05)\n",
      "[0.96191738 0.98619053 0.9642363  0.98021342 0.90539652 0.97933685\n",
      " 0.95201978 0.93900403 0.93417168 0.93834034]\n"
     ]
    }
   ],
   "source": [
    "from sklearn.model_selection import cross_val_score\n",
    "#score = cross_val_score(knn_w, X_train, Y_train, cv=10)\n",
    "#print('score', score)\n",
    "#print(\"Unweighted Accuracy: %0.2f (+/- %0.2f)\" % (score.mean(), score.std() * 2))\n",
    "score_w = cross_val_score(knn_w, X_train, Y_train, cv=10)\n",
    "print('KNN score_w', score_w)\n",
    "print(\"KNN Weighted Accuracy: %0.2f (+/- %0.2f)\" % (score_w.mean(), score_w.std() * 2))\n",
    "print(score_w)"
   ]
  },
  {
   "cell_type": "code",
   "execution_count": 49,
   "metadata": {},
   "outputs": [
    {
     "name": "stdout",
     "output_type": "stream",
     "text": [
      "\n",
      "Training Model Inspection Results:\n",
      "\n",
      "R-squared: 0.9745979715832597\n"
     ]
    }
   ],
   "source": [
    "# Inspect the results\n",
    "print('\\nTraining Model Inspection Results:')\n",
    "#print('\\nCoefficients: \\n', knn_w.coef_)\n",
    "#print('\\nIntercept: \\n', knn_w.intercept_)\n",
    "print('\\nR-squared:', knn_w.score(X_train, Y_train))"
   ]
  },
  {
   "cell_type": "code",
   "execution_count": 50,
   "metadata": {},
   "outputs": [
    {
     "name": "stdout",
     "output_type": "stream",
     "text": [
      "0.4524628416457904\n"
     ]
    }
   ],
   "source": [
    "print(knn_w.score(X1, Y1))"
   ]
  },
  {
   "cell_type": "code",
   "execution_count": null,
   "metadata": {},
   "outputs": [],
   "source": []
  },
  {
   "cell_type": "code",
   "execution_count": null,
   "metadata": {},
   "outputs": [],
   "source": []
  },
  {
   "cell_type": "code",
   "execution_count": null,
   "metadata": {},
   "outputs": [],
   "source": []
  },
  {
   "cell_type": "code",
   "execution_count": null,
   "metadata": {},
   "outputs": [],
   "source": []
  },
  {
   "cell_type": "code",
   "execution_count": null,
   "metadata": {},
   "outputs": [],
   "source": []
  }
 ],
 "metadata": {
  "kernelspec": {
   "display_name": "Python 3",
   "language": "python",
   "name": "python3"
  },
  "language_info": {
   "codemirror_mode": {
    "name": "ipython",
    "version": 3
   },
   "file_extension": ".py",
   "mimetype": "text/x-python",
   "name": "python",
   "nbconvert_exporter": "python",
   "pygments_lexer": "ipython3",
   "version": "3.7.0"
  }
 },
 "nbformat": 4,
 "nbformat_minor": 2
}
